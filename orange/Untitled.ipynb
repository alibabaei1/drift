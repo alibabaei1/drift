{
 "cells": [
  {
   "cell_type": "markdown",
   "metadata": {},
   "source": [
    "# Informationen\n",
    "## 3,3 mm Air + gitter 80 % transparrent + 1 mm Air + Al-mylar + 1,5 mm Air +ZnS\n",
    "## 3 MeV\n",
    "## 146-148 Sm, 148 150 152 Gd, 190 Pt, 209 Bi"
   ]
  },
  {
   "cell_type": "markdown",
   "metadata": {},
   "source": [
    "#### Air: Density (g/cm3) =\t1.20479E-03\n",
    "#### POLYETHYLENE TEREPHTHALATE (MYLAR): Density (g/cm3) =\t1.40000E+00\n"
   ]
  },
  {
   "cell_type": "code",
   "execution_count": 414,
   "metadata": {},
   "outputs": [],
   "source": [
    "# Imports\n",
    "import numpy as np\n",
    "import math\n",
    "import matplotlib.pyplot as plt\n",
    "from scipy.optimize import curve_fit\n",
    "from scipy import asarray as ar,exp\n",
    "from scipy import optimize\n",
    "import scipy.optimize \n",
    "%matplotlib inline"
   ]
  },
  {
   "cell_type": "code",
   "execution_count": 435,
   "metadata": {},
   "outputs": [],
   "source": [
    "#def find_corr_number( array1, array2, element):\n",
    "#    i= np.where(array1== element)\n",
    "#    return array2[i]\n",
    "def f_prim(x,a0,a1,a2,a3,a4):\n",
    "    if (x<= 0):\n",
    "        return 0\n",
    "    else:\n",
    "        return np.exp(a0+a1*np.log(x)+a2*np.log(x)**2+a3*np.log(x)**3+a4*np.log(x)**4)\n",
    "def f_Sec(x,a0,a1,a2,a3,a4):\n",
    "    return np.exp(a0+a1*np.log(x)+a2*np.log(x)**2+a3*np.log(x)**3+a4*np.log(x)**4)\n",
    "def Stopping_Power_Al(Energy):\n",
    "    return f(Energy,7.10324628e+00,  -1.94662466e-01,  -1.46767221e-01,   1.20252433e-03, 1.79847844e-03)\n",
    "def Stopping_Power(Energy):    #dE/dx\n",
    "    return f(Energy,7.51161379e+00, -1.95417699e-01, -1.94390614e-01, -1.24903581e-04,2.79996333e-03)\n",
    "def New_Stopping_power(Energy,length,dichte):\n",
    "     Stopping_Power(Energy)*length*dichte\n",
    "\n",
    "dichte_luft = 1.20479E-03\n",
    "dichte_Al = 2.69890E+00\n",
    "dichte_Mylar=1.40000E+00"
   ]
  },
  {
   "cell_type": "code",
   "execution_count": 416,
   "metadata": {},
   "outputs": [
    {
     "data": {
      "text/plain": [
       "[<matplotlib.lines.Line2D at 0x7fd2ae720240>]"
      ]
     },
     "execution_count": 416,
     "metadata": {},
     "output_type": "execute_result"
    },
    {
     "data": {
      "image/png": "[encoded data removed]",
      "text/plain": [
       "<matplotlib.figure.Figure at 0x7fd2aea10710>"
      ]
     },
     "metadata": {},
     "output_type": "display_data"
    }
   ],
   "source": [
    "#input file for dry Air Range\n",
    "Al='Aldata.pl'\n",
    "\n",
    "\n",
    "data_Al = np.loadtxt(Al, comments='#')\n",
    "\n",
    "Energy = data_Al[:,0] #kanal\n",
    "Stopping_Power_import = data_Al[:,1] #Energie\n",
    "Range_CSDA = data_Al[:,2]\n",
    "plt.xlim(1,5)\n",
    "plt.ylim(0,.003)\n",
    "plt.xlabel('Energy [MeV]')\n",
    "plt.ylabel('Range [cm]')\n",
    "plt.plot(Energy,Range_CSDA/2.7,'r-',linewidth=1)\n"
   ]
  },
  {
   "cell_type": "code",
   "execution_count": 417,
   "metadata": {},
   "outputs": [
    {
     "data": {
      "text/plain": [
       "[<matplotlib.lines.Line2D at 0x7fd2af224128>]"
      ]
     },
     "execution_count": 417,
     "metadata": {},
     "output_type": "execute_result"
    },
    {
     "data": {
      "image/png": "[encoded data removed]",
      "text/plain": [
       "<matplotlib.figure.Figure at 0x7fd2af224550>"
      ]
     },
     "metadata": {},
     "output_type": "display_data"
    }
   ],
   "source": [
    "#input file for dry Air Range\n",
    "dry_air='drayair.pl'\n",
    "\n",
    "data_Air = np.loadtxt(dry_air, comments='#')\n",
    "\n",
    "Energy = data_Air[:,0] #kanal\n",
    "Stopping_Power_import = data_Air[:,1] #Energie\n",
    "Range_CSDA = data_Air[:,2]\n",
    "plt.xlim(1,5)\n",
    "plt.ylim(0,5)\n",
    "plt.xlabel('Energy [MeV]')\n",
    "plt.ylabel('Range [cm]')\n",
    "plt.plot(Energy,Range_CSDA/1.20479E-03,'r-',linewidth=1)\n"
   ]
  },
  {
   "cell_type": "code",
   "execution_count": 6,
   "metadata": {},
   "outputs": [],
   "source": [
    "####################################################################################################\n",
    "#####################################NICHT WEG MACHEN!!!############################################\n",
    "####################################################################################################\n",
    "#input file for dry Air Stopping\n",
    "#plt.xlim(1,5)\n",
    "#plt.xlabel('Energy [MeV]')\n",
    "#plt.ylabel('Stopping Power [cm*MeV]')\n",
    "#plt.plot(Energy,Stopping_Power_import*1.20479E-03,'r-',linewidth=1)\n",
    "####################################################################################################\n",
    "#####################################NICHT WEG MACHEN!!!############################################\n",
    "####################################################################################################"
   ]
  },
  {
   "cell_type": "code",
   "execution_count": 418,
   "metadata": {},
   "outputs": [],
   "source": [
    "dry_air = 'drayair.pl'\n",
    "Al = 'Aldata.pl'\n",
    "Mylar = 'Mylar.pl'\n",
    "dary_air_data = np.loadtxt(dry_air, comments='#')\n",
    "Al_data = np.loadtxt(Al, comments='#')\n",
    "Mylar_data = np.loadtxt(Mylar, comments='#')"
   ]
  },
  {
   "cell_type": "code",
   "execution_count": 535,
   "metadata": {},
   "outputs": [
    {
     "data": {
      "text/plain": [
       "[<matplotlib.lines.Line2D at 0x7fd2ad0603c8>]"
      ]
     },
     "execution_count": 535,
     "metadata": {},
     "output_type": "execute_result"
    },
    {
     "data": {
      "image/png": "[encoded data removed]",
      "text/plain": [
       "<matplotlib.figure.Figure at 0x7fd2ac8d3e80>"
      ]
     },
     "metadata": {},
     "output_type": "display_data"
    }
   ],
   "source": [
    "Energy_dry_air = dary_air_data[:,0] #kanal\n",
    "Stopping_Power_dry_air = dary_air_data[:,1] #Energie\n",
    "Range_CSDA_dry_air = dary_air_data[:,2]\n",
    "\n",
    "Energy_Al = Al_data[:,0] #kanal\n",
    "Stopping_Power_Al = Al_data[:,1] #Energie\n",
    "Range_CSDA_Al = Al_data[:,2]\n",
    "\n",
    "Energy_Mylar = Mylar_data[:,0] #kanal\n",
    "Stopping_Power_Mylar = Mylar_data[:,1] #Energie\n",
    "Range_CSDA_Mylar = Mylar_data[:,2]\n",
    "\n",
    "popt_air, pcov_air = curve_fit(f_Sec, Energy_dry_air, Stopping_Power_dry_air,p0=[-2.4,7.6,-0.3,-0.02,0.02])\n",
    "popt_Al, pcov_Al = curve_fit(f_Sec, Energy_Al, Stopping_Power_Al,p0=[-2.4,7.6,-0.3,-0.02,0.02])\n",
    "popt_Mylar, pcov_Mylar = curve_fit(f_Sec, Energy_Mylar, Stopping_Power_Mylar,p0=[-2.4,7.6,-0.3,-0.02,0.02])\n",
    "\n",
    "\n",
    "\n",
    "#plt.xlim(1e-3,10)\n",
    "#plt.ylim(1,100000)\n",
    "plt.figure(1)\n",
    "plt.subplot(221)\n",
    "plt.loglog(Energy_dry_air,Stopping_Power_dry_air,'r.',linewidth=1)\n",
    "plt.loglog(Energy_dry_air,f_Sec(Energy_dry_air,*popt_air),'b-',linewidth=1)\n",
    "plt.subplot(222)\n",
    "plt.loglog(Energy_Al,Stopping_Power_Al,'r.',linewidth=1)\n",
    "plt.loglog(Energy_Al,f_Sec(Energy_Al,*popt_Al),'b-',linewidth=1)\n",
    "plt.subplot(223)\n",
    "plt.loglog(Energy_Mylar,Stopping_Power_Mylar,'r.',linewidth=1)\n",
    "plt.loglog(Energy_Mylar,f_Sec(Energy_Mylar,*popt_Mylar),'b-',linewidth=1)"
   ]
  },
  {
   "cell_type": "code",
   "execution_count": 537,
   "metadata": {},
   "outputs": [
    {
     "name": "stdout",
     "output_type": "stream",
     "text": [
      "0\n",
      "618.229473713\n",
      "884.768441792\n"
     ]
    }
   ],
   "source": [
    "def Stopping_Power_Air(Energy):\n",
    "    return f_prim(Energy,*popt_air)\n",
    "def Stopping_Power_Al(Energy):\n",
    "    return f_prim(Energy,*popt_Al)\n",
    "def Stopping_Power_Mylar(Energy):\n",
    "    return f_prim(Energy,*popt_Mylar)\n",
    "#test!\n",
    "print(Stopping_Power_Air(-5))\n",
    "print(Stopping_Power_Al(5))\n",
    "print(Stopping_Power_Mylar(5))"
   ]
  },
  {
   "cell_type": "code",
   "execution_count": 639,
   "metadata": {},
   "outputs": [],
   "source": [
    "def Stopping_Power_step_Air(Energy , length, n):\n",
    "    multiplicator = dichte_luft * length\n",
    "    for i in range(n):\n",
    "        Energy = Energy - Stopping_Power_Air(Energy)*multiplicator\n",
    "#        print(Energy)\n",
    "    return Energy\n",
    "def Stopping_Power_step_Al(Energy , length, n):\n",
    "    multiplicator = dichte_Al * length\n",
    "    for i in range(n):\n",
    "        Energy = Energy - Stopping_Power_Al(Energy)*multiplicator\n",
    "    return Energy\n",
    "def Stopping_Power_step_Mylar(Energy, length, n):\n",
    "    multiplicator = dichte_Mylar * length\n",
    "    for i in range(n):\n",
    "        Energy = Energy - Stopping_Power_Mylar(Energy)*multiplicator\n",
    "    return Energy\n",
    "def E_loss( E_in, d, Stopping_Power_von_Material):\n",
    "    if Stopping_Power_von_Material == 'Air':\n",
    "        return Stopping_Power_step_Air(E_in, 1e-2, int(d/1e-2))\n",
    "    elif Stopping_Power_von_Material == 'Al':\n",
    "        return Stopping_Power_step_Al(E_in, 1e-6, int(d/1e-6)) \n",
    "    elif Stopping_Power_von_Material == 'Mylar':\n",
    "        return Stopping_Power_step_Mylar(E_in, 1e-6, int(d/1e-6)) \n",
    "    else:\n",
    "        print('Not defined')\n",
    "def Orange_direct(E_in):\n",
    "    E_1= E_loss( E_in, 0.43, 'Air') #3.3mm + 0.1mm luft\n",
    "    E_2= E_loss( E_1, 1e-4, 'Al' ) #1u Al\n",
    "    E_3= E_loss( E_2, 6e-4, 'Mylar') # 6um Mylar\n",
    "    E_4= E_loss( E_3, 0.15, 'Air' ) # 1.5 mm luft\n",
    "    return E_4\n",
    "def Orange(E_in, theta):\n",
    "    E_1= E_loss( E_in, 0.43/np.cos(theta*np.pi/180), 'Air') #3.3mm + 0.1mm luft\n",
    "    E_2= E_loss( E_1, 1e-4/np.cos(theta*np.pi/180), 'Al' ) #1u Al\n",
    "    E_3= E_loss( E_2, 6e-4/np.cos(theta*np.pi/180), 'Mylar') # 6um Mylar\n",
    "    E_4= E_loss( E_3, 0.15/np.cos(theta*np.pi/180), 'Air' ) # 1.5 mm luft\n",
    "    return E_4\n",
    "def limit_theta(Energy):\n",
    "    n= 0\n",
    "    while(Orange(Energy,n)>=0.1):\n",
    "#        print(Orange(Energy,n))\n",
    "        n=n+.1\n",
    "    return n-.1\n",
    "#limit_theta(3)\n",
    "def random_theta(Energy, Anzahl):\n",
    "    return np.random.uniform(0,limit_theta(Energy),Anzahl)\n",
    "def random_End_Energy(Energy,Anzahl):\n",
    "    a = []\n",
    "    for i in range(Anzahl):\n",
    "        result= Orange(Energy,random_theta(Energy,1))\n",
    "        a.append(result)\n",
    "    return np.asarray(a)"
   ]
  },
  {
   "cell_type": "code",
   "execution_count": 632,
   "metadata": {},
   "outputs": [
    {
     "data": {
      "text/plain": [
       "20.30000000000002"
      ]
     },
     "execution_count": 632,
     "metadata": {},
     "output_type": "execute_result"
    }
   ],
   "source": [
    "\n",
    "limit_theta(2.95)\n",
    "#Orange(5,1)\n",
    "#Stopping_Power_step_Air(5, 0.43, 4500)\n",
    "#random_End_Energy(3,1)\n"
   ]
  },
  {
   "cell_type": "code",
   "execution_count": 474,
   "metadata": {},
   "outputs": [],
   "source": [
    "##########################################################################################################\n",
    "##########################################################################################################\n",
    "################################NICHT WEG MACHEN!!!#######################################################\n",
    "##########################################################################################################\n",
    "##########################################################################################################\n",
    "#def Energy_mit_random_theta(Energy, Anzahl):\n",
    "#    a = []\n",
    "#    #limit=limit_theta(3)\n",
    "#    for i in range(Anzahl):\n",
    "#        result= Orange(Energy,float(np.random.uniform(0,66.42,1)))\n",
    "#        if math.isnan(result)== True:\n",
    "#            pass\n",
    "#        else:\n",
    "#            a.append(result)\n",
    "#    return np.asarray(a)\n",
    "##########################################################################################################\n",
    "##########################################################################################################\n",
    "################################NICHT WEG MACHEN!!!#######################################################\n",
    "##########################################################################################################\n",
    "##########################################################################################################"
   ]
  },
  {
   "cell_type": "code",
   "execution_count": 517,
   "metadata": {
    "scrolled": true
   },
   "outputs": [
    {
     "data": {
      "image/png": "[encoded data removed]",
      "text/plain": [
       "<matplotlib.figure.Figure at 0x7fd2ac970518>"
      ]
     },
     "metadata": {},
     "output_type": "display_data"
    }
   ],
   "source": [
    "n, bins, patches = plt.hist(random_End_Energy(5,50), 100, density=False, facecolor='k', alpha=1)"
   ]
  },
  {
   "cell_type": "code",
   "execution_count": 518,
   "metadata": {},
   "outputs": [
    {
     "data": {
      "image/png": "[encoded data removed]",
      "text/plain": [
       "<matplotlib.figure.Figure at 0x7fd2adaa6f60>"
      ]
     },
     "metadata": {},
     "output_type": "display_data"
    }
   ],
   "source": [
    "n, bins, patches = plt.hist(random_End_Energy(5,50), 50, density=False, facecolor='k', alpha=1)"
   ]
  },
  {
   "cell_type": "code",
   "execution_count": 618,
   "metadata": {},
   "outputs": [
    {
     "ename": "SyntaxError",
     "evalue": "invalid syntax (<ipython-input-618-1415081749ae>, line 6)",
     "output_type": "error",
     "traceback": [
      "\u001b[0;36m  File \u001b[0;32m\"<ipython-input-618-1415081749ae>\"\u001b[0;36m, line \u001b[0;32m6\u001b[0m\n\u001b[0;31m    n, bins, patches = plt.hist(random_End_Energy(5,5), 50, density=False, facecolor='k', alpha=1)\u001b[0m\n\u001b[0m    ^\u001b[0m\n\u001b[0;31mSyntaxError\u001b[0m\u001b[0;31m:\u001b[0m invalid syntax\n"
     ]
    }
   ],
   "source": [
    "import time\n",
    "start_time = time.time()\n",
    "n, bins, patches = plt.hist(random_End_Energy(5,5), 50, density=False, facecolor='k', alpha=1)\n",
    "print(\"--- %s seconds ---\" % (time.time() - start_time))"
   ]
  },
  {
   "cell_type": "code",
   "execution_count": 626,
   "metadata": {},
   "outputs": [],
   "source": [
    "#6023.967724084854/(60*60)"
   ]
  },
  {
   "cell_type": "code",
   "execution_count": 652,
   "metadata": {},
   "outputs": [
    {
     "name": "stdout",
     "output_type": "stream",
     "text": [
      "CPU times: user 743 ms, sys: 0 ns, total: 743 ms\n",
      "Wall time: 743 ms\n"
     ]
    },
    {
     "data": {
      "image/png": "[encoded data removed]",
      "text/plain": [
       "<matplotlib.figure.Figure at 0x7fd2a7277630>"
      ]
     },
     "metadata": {},
     "output_type": "display_data"
    }
   ],
   "source": [
    "%%time\n",
    "n, bins, patches = plt.hist(random_End_Energy(2.9,1),5, density=False, facecolor='k', alpha=1)\n",
    "plt.title('haha')"
   ]
  },
  {
   "cell_type": "code",
   "execution_count": 461,
   "metadata": {},
   "outputs": [],
   "source": [
    "#def plot(Energy):\n",
    "#    a = []\n",
    "#    theta=0\n",
    "#    lim=limit_theta(Energy)\n",
    "#    #limit=limit_theta(3)\n",
    "#    for i in range(9000000):\n",
    "#        if(theta<lim):\n",
    "#            result= Orange(Energy,theta)\n",
    "#            a.append(result)\n",
    "#            theta=theta+.001\n",
    "#        else:\n",
    "#            break\n",
    "#    return np.asarray(a)\n",
    "#def t(Energy):\n",
    "#    return np.arange(0,90,90/len(plot(Energy)))"
   ]
  },
  {
   "cell_type": "code",
   "execution_count": 469,
   "metadata": {},
   "outputs": [],
   "source": [
    "#plt.plot(t(5),plot(5))\n",
    "#plt.plot(t(4),plot(4))\n",
    "#plt.plot(t(3),plot(3))"
   ]
  },
  {
   "cell_type": "code",
   "execution_count": 621,
   "metadata": {
    "scrolled": true
   },
   "outputs": [
    {
     "ename": "KeyboardInterrupt",
     "evalue": "",
     "output_type": "error",
     "traceback": [
      "\u001b[0;31m---------------------------------------------------------------------------\u001b[0m",
      "\u001b[0;31mKeyboardInterrupt\u001b[0m                         Traceback (most recent call last)",
      "\u001b[0;32m~/miniconda3/lib/python3.6/site-packages/zmq/backend/cython/checkrc.pxd\u001b[0m in \u001b[0;36mzmq.backend.cython.checkrc._check_rc\u001b[0;34m()\u001b[0m\n",
      "\u001b[0;31mKeyboardInterrupt\u001b[0m: "
     ]
    },
    {
     "name": "stderr",
     "output_type": "stream",
     "text": [
      "Exception ignored in: 'zmq.backend.cython.message.Frame.__dealloc__'\n",
      "Traceback (most recent call last):\n",
      "  File \"zmq/backend/cython/checkrc.pxd\", line 12, in zmq.backend.cython.checkrc._check_rc\n",
      "KeyboardInterrupt\n"
     ]
    },
    {
     "ename": "KeyboardInterrupt",
     "evalue": "",
     "output_type": "error",
     "traceback": [
      "\u001b[0;31m---------------------------------------------------------------------------\u001b[0m",
      "\u001b[0;31mKeyboardInterrupt\u001b[0m                         Traceback (most recent call last)",
      "\u001b[0;32m~/miniconda3/lib/python3.6/site-packages/zmq/backend/cython/checkrc.pxd\u001b[0m in \u001b[0;36mzmq.backend.cython.checkrc._check_rc\u001b[0;34m()\u001b[0m\n",
      "\u001b[0;31mKeyboardInterrupt\u001b[0m: "
     ]
    },
    {
     "name": "stderr",
     "output_type": "stream",
     "text": [
      "Exception ignored in: 'zmq.backend.cython.message.Frame.__dealloc__'\n",
      "Traceback (most recent call last):\n",
      "  File \"zmq/backend/cython/checkrc.pxd\", line 12, in zmq.backend.cython.checkrc._check_rc\n",
      "KeyboardInterrupt\n"
     ]
    },
    {
     "data": {
      "image/png": "[encoded data removed]",
      "text/plain": [
       "<matplotlib.figure.Figure at 0x7fd2abe0df98>"
      ]
     },
     "metadata": {},
     "output_type": "display_data"
    }
   ],
   "source": [
    "from numba import jit, int32\n",
    "@jit\n",
    "def plot2(Energy):\n",
    "    a = []\n",
    "    theta=-limit_theta(Energy)\n",
    "    lim=limit_theta(Energy)\n",
    "    #limit=limit_theta(3)\n",
    "    for i in range(9000000):\n",
    "        if(theta<lim):\n",
    "            a.append(Orange(Energy,theta))\n",
    "            theta=theta+.1\n",
    "        else:\n",
    "            break\n",
    "    return np.asarray(a)\n",
    "def t2(Energy):\n",
    "    return np.arange(-90,90,180/len(plot2(Energy)))\n",
    "\n",
    "plt.xlabel('Winkel')\n",
    "plt.ylabel('Deponierte Energie am Detektor')\n",
    "plt.grid(True)\n",
    "plt.plot(t2(5),plot2(5))\n",
    "plt.plot(t2(4),plot2(4))\n",
    "plt.plot(t2(3),plot2(3))\n",
    "plt.savefig('winkel3.png')"
   ]
  },
  {
   "cell_type": "code",
   "execution_count": 653,
   "metadata": {},
   "outputs": [
    {
     "data": {
      "text/plain": [
       "8.979672757850754"
      ]
     },
     "execution_count": 653,
     "metadata": {},
     "output_type": "execute_result"
    }
   ],
   "source": [
    "32326.82192826271 /(60*60)"
   ]
  },
  {
   "cell_type": "markdown",
   "metadata": {},
   "source": [
    "# 210 po = 5.3 MeV - \n",
    "## 241 Am = 5.4 Mev"
   ]
  }
 ],
 "metadata": {
  "kernelspec": {
   "display_name": "Python 3",
   "language": "python",
   "name": "python3"
  },
  "language_info": {
   "codemirror_mode": {
    "name": "ipython",
    "version": 3
   },
   "file_extension": ".py",
   "mimetype": "text/x-python",
   "name": "python",
   "nbconvert_exporter": "python",
   "pygments_lexer": "ipython3",
   "version": "3.6.3"
  }
 },
 "nbformat": 4,
 "nbformat_minor": 2
}
